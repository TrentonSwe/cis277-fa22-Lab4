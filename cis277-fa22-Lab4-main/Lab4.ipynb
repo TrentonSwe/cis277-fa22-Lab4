{
 "cells": [
  {
   "cell_type": "markdown",
   "metadata": {},
   "source": [
    "# Lab 4 - Combining Dataframes"
   ]
  },
  {
   "cell_type": "markdown",
   "metadata": {},
   "source": [
    "## NFL Offense Data"
   ]
  },
  {
   "cell_type": "markdown",
   "metadata": {},
   "source": [
    "1. Import the NFL week 3, 4, and 5 data and add a week column to dataset and set the value to 3, 4, or 5 for all rows from that week."
   ]
  },
  {
   "cell_type": "code",
   "execution_count": 35,
   "metadata": {},
   "outputs": [],
   "source": [
    "import pandas as pd\n",
    "\n",
    "df1 = pd.read_csv(\"nfloffenseweek3.csv\")\n",
    "df1.insert(2, \"Week\", True)\n",
    "df1['Week'] = 3\n",
    "\n",
    "df2 = pd.read_csv(\"nfloffenseweek4.csv\")\n",
    "df2.insert(2, \"Week\",True)\n",
    "df2['Week'] = 4\n",
    "\n",
    "df3 = pd.read_csv(\"nfloffenseweek5.csv\")\n",
    "df3.insert(2, \"Week\", True)\n",
    "df3['Week'] = 5\n",
    "\n"
   ]
  },
  {
   "cell_type": "markdown",
   "metadata": {},
   "source": [
    "2. Combine the weekly dataframes by adding the dataframes together row-wise."
   ]
  },
  {
   "cell_type": "code",
   "execution_count": 36,
   "metadata": {},
   "outputs": [],
   "source": [
    "frames = [df1, df2, df3]\n",
    "\n",
    "df = pd.concat(frames)"
   ]
  },
  {
   "cell_type": "markdown",
   "metadata": {},
   "source": [
    "3. Make up 1 interesting question about this dataset. Answer it."
   ]
  },
  {
   "cell_type": "markdown",
   "metadata": {},
   "source": [
    "Which team from the first rank has the most passes completed?"
   ]
  },
  {
   "cell_type": "code",
   "execution_count": 37,
   "metadata": {},
   "outputs": [
    {
     "data": {
      "text/plain": [
       "team                Kansas City Chiefs\n",
       "passes_completed                   126\n",
       "dtype: object"
      ]
     },
     "execution_count": 37,
     "metadata": {},
     "output_type": "execute_result"
    }
   ],
   "source": [
    "movies_2018 = df[df[\"rank\"] == 1]\n",
    "movies_2018[['team', 'passes_completed']].max()"
   ]
  },
  {
   "cell_type": "markdown",
   "metadata": {},
   "source": [
    "## World Population Data"
   ]
  },
  {
   "cell_type": "markdown",
   "metadata": {},
   "source": [
    "4. Join the height and weight data to the iq data. \n",
    "5. Join population density to quality of life data.\n",
    "6. Join life expectancy to quality of life data.\n",
    "7. Join iq, life expectancy, quality of life and population density into 1 dataframe."
   ]
  },
  {
   "cell_type": "code",
   "execution_count": 38,
   "metadata": {},
   "outputs": [],
   "source": [
    "df4 = pd.read_csv(\"height_weight_data.csv\")\n",
    "\n",
    "df5 = pd.read_csv(\"iq.csv\")\n",
    "\n",
    "frame = [df4, df5]\n",
    "\n",
    "data1 = pd.concat(frame)"
   ]
  },
  {
   "cell_type": "code",
   "execution_count": 39,
   "metadata": {},
   "outputs": [],
   "source": [
    "df6 = pd.read_csv(\"population_density.csv\")\n",
    "\n",
    "df7 = pd.read_csv(\"quality_of_life.csv\")\n",
    "\n",
    "frame1 = [df6, df7]\n",
    "\n",
    "data2 = pd.concat(frame1)"
   ]
  },
  {
   "cell_type": "code",
   "execution_count": 40,
   "metadata": {},
   "outputs": [],
   "source": [
    "df8 = pd.read_csv(\"life_expectancy.csv\")\n",
    "\n",
    "df9 = pd.read_csv(\"quality_of_life.csv\")\n",
    "\n",
    "frame2 = [df8, df9]\n",
    "\n",
    "data3 = pd.concat(frame2)"
   ]
  },
  {
   "cell_type": "code",
   "execution_count": 41,
   "metadata": {},
   "outputs": [],
   "source": [
    "df10 = pd.read_csv(\"population_density.csv\")\n",
    "\n",
    "frame3 = [df5, data3, df10]\n",
    "data_frame = pd.concat(frame3)"
   ]
  },
  {
   "cell_type": "markdown",
   "metadata": {},
   "source": [
    "8. Make up 1 interesting question about one of these datasets and answer it."
   ]
  },
  {
   "cell_type": "markdown",
   "metadata": {},
   "source": [
    "Which country has the highest iq?"
   ]
  },
  {
   "cell_type": "code",
   "execution_count": 46,
   "metadata": {},
   "outputs": [
    {
     "data": {
      "text/plain": [
       "country    Zimbabwe\n",
       "iq            108.0\n",
       "dtype: object"
      ]
     },
     "execution_count": 46,
     "metadata": {},
     "output_type": "execute_result"
    }
   ],
   "source": [
    "data1[['country', 'iq']].max()"
   ]
  },
  {
   "cell_type": "markdown",
   "metadata": {},
   "source": [
    "9. Make up 1 interesting question about one of these datasets and answer it."
   ]
  },
  {
   "cell_type": "markdown",
   "metadata": {},
   "source": [
    "What is the average number of rights?"
   ]
  },
  {
   "cell_type": "code",
   "execution_count": 44,
   "metadata": {},
   "outputs": [
    {
     "data": {
      "text/plain": [
       "6944.0"
      ]
     },
     "execution_count": 44,
     "metadata": {},
     "output_type": "execute_result"
    }
   ],
   "source": [
    "data2.rights.sum()\n"
   ]
  },
  {
   "cell_type": "markdown",
   "metadata": {},
   "source": [
    "10. Make up 1 interesting question about one of these datasets and answer it."
   ]
  },
  {
   "cell_type": "markdown",
   "metadata": {},
   "source": [
    "Which country has the lowest death rate?"
   ]
  },
  {
   "cell_type": "code",
   "execution_count": 45,
   "metadata": {},
   "outputs": [
    {
     "data": {
      "text/plain": [
       "country       Afghanistan\n",
       "death_rate            1.3\n",
       "dtype: object"
      ]
     },
     "execution_count": 45,
     "metadata": {},
     "output_type": "execute_result"
    }
   ],
   "source": [
    "data_frame[['country', 'death_rate']].min()"
   ]
  }
 ],
 "metadata": {
  "kernelspec": {
   "display_name": "Python 3.9.12 ('base')",
   "language": "python",
   "name": "python3"
  },
  "language_info": {
   "codemirror_mode": {
    "name": "ipython",
    "version": 3
   },
   "file_extension": ".py",
   "mimetype": "text/x-python",
   "name": "python",
   "nbconvert_exporter": "python",
   "pygments_lexer": "ipython3",
   "version": "3.9.12"
  },
  "orig_nbformat": 4,
  "vscode": {
   "interpreter": {
    "hash": "f92b40cb4e51c9244bde1e99aa8e17e42e4aacdaefbe051cdc580a383c338443"
   }
  }
 },
 "nbformat": 4,
 "nbformat_minor": 2
}
